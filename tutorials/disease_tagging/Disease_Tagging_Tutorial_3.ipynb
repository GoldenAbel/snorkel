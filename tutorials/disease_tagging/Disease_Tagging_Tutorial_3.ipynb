{
 "cells": [
  {
   "cell_type": "markdown",
   "metadata": {},
   "source": [
    "# Disease Tagging: Annotating using gold data\n",
    "\n",
    "Here, we'll match gold annotations to the corresponding (i.e. equal or superset) candidates, and then label those candidates as true disease mentions!"
   ]
  },
  {
   "cell_type": "code",
   "execution_count": null,
   "metadata": {
    "collapsed": false
   },
   "outputs": [],
   "source": [
    "%load_ext autoreload\n",
    "%autoreload 2\n",
    "\n",
    "from snorkel import SnorkelSession\n",
    "session = SnorkelSession()"
   ]
  },
  {
   "cell_type": "code",
   "execution_count": null,
   "metadata": {
    "collapsed": true
   },
   "outputs": [],
   "source": [
    "from snorkel.models import candidate_subclass\n",
    "\n",
    "Disease = candidate_subclass('Disease', ['disease'])"
   ]
  },
  {
   "cell_type": "code",
   "execution_count": null,
   "metadata": {
    "collapsed": false
   },
   "outputs": [],
   "source": [
    "from snorkel.models import CandidateSet\n",
    "\n",
    "cs = session.query(CandidateSet).filter(CandidateSet.name == 'CDR Development Candidates').one()\n",
    "cs"
   ]
  },
  {
   "cell_type": "markdown",
   "metadata": {},
   "source": [
    "## First: Loading External Evaluation Labels\n",
    "\n",
    "Loading in external annotations can be a bit messier, since these external annotations could be in any format.  Here, we'll provide an example of how to use the `ExternalAnnotationsLoader` helper class to make this a bit simpler.\n",
    "\n",
    "**Note that most of the code below is custom code just for this particular example's external annotations format;** we start, however, by creating the loader helper.  Note that we use it to create a `CandidateSet` (named \"Gold Candidates\") and `AnnotationKey` (named \"Gold Labels\") for the annotations we load.\n",
    "\n",
    "Note in particular that we need to define a new candidate set because _the external annotations we load might be over candidates not in our candidate set._"
   ]
  },
  {
   "cell_type": "code",
   "execution_count": null,
   "metadata": {
    "collapsed": false
   },
   "outputs": [],
   "source": [
    "from snorkel.loaders import ExternalAnnotationsLoader\n",
    "\n",
    "loader = ExternalAnnotationsLoader(session, Disease, \n",
    "                                   'CDR Development Candidates -- Gold',\n",
    "                                   'CDR Development Labels -- Gold',\n",
    "                                   expand_candidate_set=True)"
   ]
  },
  {
   "cell_type": "markdown",
   "metadata": {},
   "source": [
    "Next, we use custom scripts to extract this particular type of annotations.  **The details of these scripts are mostly left out as they are particular to this example (see `tutorial/utils.py`).**\n",
    "\n",
    "The key part is that we need to form a _dictionary of `TemporaryContexts`_ to pass into the loader:"
   ]
  },
  {
   "cell_type": "code",
   "execution_count": null,
   "metadata": {
    "collapsed": false
   },
   "outputs": [],
   "source": [
    "from utils import get_docs_xml, get_CID_unary_mentions\n",
    "from snorkel.models import Document, TemporarySpan\n",
    "import os\n",
    "ROOT = os.environ['SNORKELHOME'] + '/tutorials/disease_tagging/data/'\n",
    "\n",
    "def load_BioC_disease_labels(loader, file_name):\n",
    "    # Get all the annotated Pubtator documents as XML trees\n",
    "    doc_xmls = get_docs_xml(ROOT + file_name)\n",
    "    for doc_id, doc_xml in doc_xmls.iteritems():\n",
    "    \n",
    "        # Get the corresponding Document object\n",
    "        stable_id = \"%s::document:0:0\" % doc_id\n",
    "        doc       = session.query(Document).filter(Document.stable_id == stable_id).first()\n",
    "        if doc is not None:\n",
    "        \n",
    "            # Use custom script + loader to add\n",
    "            for d in get_CID_unary_mentions(doc_xml, doc, 'Disease'):\n",
    "                loader.add(d)\n",
    "\n",
    "load_BioC_disease_labels(loader, 'CDR_DevelopmentSet.BioC.xml')"
   ]
  },
  {
   "cell_type": "markdown",
   "metadata": {},
   "source": [
    "We've created a candidate set and a corresponding set of labels:"
   ]
  },
  {
   "cell_type": "code",
   "execution_count": null,
   "metadata": {
    "collapsed": false
   },
   "outputs": [],
   "source": [
    "from snorkel.models import Label\n",
    "\n",
    "cs = session.query(CandidateSet).filter(CandidateSet.name == 'CDR Development Candidates -- Gold').one()\n",
    "print len(cs)\n",
    "print session.query(Label).filter(Label.key == loader.annotation_key).count()"
   ]
  },
  {
   "cell_type": "markdown",
   "metadata": {},
   "source": [
    "Now we'll load the rest of the annotations:"
   ]
  },
  {
   "cell_type": "code",
   "execution_count": null,
   "metadata": {
    "collapsed": false
   },
   "outputs": [],
   "source": [
    "for set_name in ['Training', 'Test']:\n",
    "    loader = ExternalAnnotationsLoader(session, Disease, \n",
    "                                       'CDR %s Candidates -- Gold' % set_name,\n",
    "                                       'CDR %s Labels -- Gold' % set_name,\n",
    "                                       expand_candidate_set=True)\n",
    "    load_BioC_disease_labels(loader, 'CDR_%sSet.BioC.xml' % set_name)\n",
    "    print session.query(Label).filter(Label.key == loader.annotation_key).count()"
   ]
  },
  {
   "cell_type": "markdown",
   "metadata": {},
   "source": [
    "# Now, we'll match the gold candidates with ours & annotate!"
   ]
  },
  {
   "cell_type": "code",
   "execution_count": null,
   "metadata": {
    "collapsed": false
   },
   "outputs": [],
   "source": [
    "from snorkel.models import AnnotationKeySet, AnnotationKey, Span\n",
    "\n",
    "for name in ['Training', 'Development', 'Test']:\n",
    "    \n",
    "    # Load gold candidates\n",
    "    gold = session.query(CandidateSet).filter(CandidateSet.name == 'CDR %s Candidates -- Gold' % name).one()\n",
    "    print \"Gold candidates:\", len(gold)\n",
    "    \n",
    "    # Load NP-chunk candidates\n",
    "    candidates = session.query(CandidateSet).filter(CandidateSet.name == 'CDR %s Candidates' % name).one()\n",
    "    print \"NP Candidates:\", len(candidates)\n",
    "    \n",
    "    # Create / load a label key set\n",
    "    try:\n",
    "        label_key_set = session.query(AnnotationKeySet).filter(AnnotationKeySet.name == '%s Labels' % name).one()\n",
    "    except:\n",
    "        label_key_set = AnnotationKeySet(name='%s Labels' % name)\n",
    "        session.add(label_key_set)\n",
    "        session.commit()\n",
    "    \n",
    "    # Create / load a label key\n",
    "    try:\n",
    "        label_key = session.query(AnnotationKey).filter(AnnotationKey.name == 'Gold NP-Chunk Label').one()\n",
    "    except:\n",
    "        label_key = AnnotationKey(name='Gold NP-Chunk Label')\n",
    "        session.add(label_key)\n",
    "    \n",
    "    # Add label key to label key set\n",
    "    if label_key not in label_key_set.keys:\n",
    "        label_key_set.append(label_key)\n",
    "\n",
    "    session.commit()\n",
    "    \n",
    "    seen  = set()\n",
    "    for g in gold:\n",
    "    \n",
    "        # Get the candidates in our NP candidate set which are in the same sentence\n",
    "        ds = session.query(Disease).join(Span)\\\n",
    "            .filter(Disease.sets.contains(candidates))\\\n",
    "            .filter(Span.parent == g.disease.parent).all()\n",
    "    \n",
    "        # Check for the superset candidate which contains the gold span\n",
    "        for d in ds:\n",
    "        \n",
    "            # Note that a small number of candidates contain > 1 gold candidate\n",
    "            # Just deal with heuristically here...\n",
    "            if g.disease in d.disease and d not in seen:\n",
    "                label = Label(key=label_key, candidate=d, value=1)\n",
    "                session.add(label)\n",
    "                seen.add(d)\n",
    "                break\n",
    "\n",
    "    session.commit()"
   ]
  }
 ],
 "metadata": {
  "kernelspec": {
   "display_name": "Python 2",
   "language": "python",
   "name": "python2"
  },
  "language_info": {
   "codemirror_mode": {
    "name": "ipython",
    "version": 2
   },
   "file_extension": ".py",
   "mimetype": "text/x-python",
   "name": "python",
   "nbconvert_exporter": "python",
   "pygments_lexer": "ipython2",
   "version": "2.7.10"
  }
 },
 "nbformat": 4,
 "nbformat_minor": 0
}
